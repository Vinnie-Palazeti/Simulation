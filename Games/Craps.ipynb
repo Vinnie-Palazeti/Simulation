{
 "cells": [
  {
   "cell_type": "code",
   "execution_count": null,
   "metadata": {
    "id": "7k7Fso1UuyBI"
   },
   "outputs": [],
   "source": [
    "import random\n",
    "from random import randint"
   ]
  },
  {
   "cell_type": "markdown",
   "metadata": {
    "id": "wRzZsMTVLigg"
   },
   "source": [
    "# Craps Simulation"
   ]
  },
  {
   "cell_type": "code",
   "execution_count": null,
   "metadata": {
    "colab": {
     "base_uri": "https://localhost:8080/",
     "height": 527
    },
    "id": "oRSvvFLTu14u",
    "outputId": "5766e8dd-1a58-4117-e304-6b8676b08cfa",
    "scrolled": true
   },
   "outputs": [
    {
     "name": "stdout",
     "output_type": "stream",
     "text": [
      "8\n",
      "keep rolling...\n",
      "4\n",
      "keep rolling...\n",
      "6\n",
      "keep rolling...\n",
      "12\n",
      "keep rolling...\n",
      "6\n",
      "keep rolling...\n",
      "6\n",
      "keep rolling...\n",
      "3\n",
      "keep rolling...\n",
      "4\n",
      "keep rolling...\n",
      "6\n",
      "keep rolling...\n",
      "4\n",
      "keep rolling...\n",
      "11\n",
      "keep rolling...\n",
      "6\n",
      "keep rolling...\n",
      "9\n",
      "keep rolling...\n",
      "3\n",
      "keep rolling...\n",
      "7\n",
      "rolled a 7 ... LOST\n"
     ]
    }
   ],
   "source": [
    "\n",
    "def roll_dice():\n",
    "        return randint(1, 6) + randint(1, 6)\n",
    "\n",
    "\n",
    "def sim_game():\n",
    "    initial_roll = roll_dice()\n",
    "    print(initial_roll)\n",
    "    if initial_roll in {2, 3, 12}:\n",
    "      print('rolled a', intial_roll, '... you LOST')\n",
    "    elif initial_roll in {7, 11}:\n",
    "      print('rolled a', initial_roll, '... you WON')    \n",
    "    \n",
    "    else:\n",
    "        while True:\n",
    "          print('keep rolling...')\n",
    "          roll = roll_dice()\n",
    "          print(roll)\n",
    "          if roll == 7:\n",
    "            print('rolled a', roll, '... LOST')\n",
    "            break\n",
    "          elif roll ==  initial_roll:\n",
    "            print('rolled a', roll, 'which equals your initial roll', initial_roll, '...WIN' )\n",
    "            break\n",
    "          else:\n",
    "            pass\n",
    "        \n",
    "\n",
    "sim_game()"
   ]
  }
 ],
 "metadata": {
  "colab": {
   "collapsed_sections": [],
   "name": "STAT 321 HW 1.ipynb",
   "provenance": []
  },
  "kernelspec": {
   "display_name": "Python 3",
   "language": "python",
   "name": "python3"
  },
  "language_info": {
   "codemirror_mode": {
    "name": "ipython",
    "version": 3
   },
   "file_extension": ".py",
   "mimetype": "text/x-python",
   "name": "python",
   "nbconvert_exporter": "python",
   "pygments_lexer": "ipython3",
   "version": "3.7.1"
  }
 },
 "nbformat": 4,
 "nbformat_minor": 1
}
