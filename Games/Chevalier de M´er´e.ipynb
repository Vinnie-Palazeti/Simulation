{
 "cells": [
  {
   "cell_type": "markdown",
   "metadata": {},
   "source": [
    "Simulate Chevalier de M´er´e"
   ]
  },
  {
   "cell_type": "code",
   "execution_count": 1,
   "metadata": {
    "colab": {},
    "colab_type": "code",
    "id": "-cuTUYRdyf1E"
   },
   "outputs": [
    {
     "ename": "ModuleNotFoundError",
     "evalue": "No module named 'numpy'",
     "output_type": "error",
     "traceback": [
      "\u001b[1;31m---------------------------------------------------------------------------\u001b[0m",
      "\u001b[1;31mModuleNotFoundError\u001b[0m                       Traceback (most recent call last)",
      "\u001b[1;32m<ipython-input-1-fb90d268cd6e>\u001b[0m in \u001b[0;36m<module>\u001b[1;34m\u001b[0m\n\u001b[1;32m----> 1\u001b[1;33m \u001b[1;32mimport\u001b[0m \u001b[0mnumpy\u001b[0m \u001b[1;32mas\u001b[0m \u001b[0mnp\u001b[0m\u001b[1;33m\u001b[0m\u001b[1;33m\u001b[0m\u001b[0m\n\u001b[0m\u001b[0;32m      2\u001b[0m \u001b[1;32mfrom\u001b[0m \u001b[0mrandom\u001b[0m \u001b[1;32mimport\u001b[0m \u001b[0mrandint\u001b[0m\u001b[1;33m\u001b[0m\u001b[1;33m\u001b[0m\u001b[0m\n",
      "\u001b[1;31mModuleNotFoundError\u001b[0m: No module named 'numpy'"
     ]
    }
   ],
   "source": [
    "import numpy as np\n",
    "from random import randint"
   ]
  },
  {
   "cell_type": "code",
   "execution_count": 6,
   "metadata": {
    "colab": {
     "base_uri": "https://localhost:8080/",
     "height": 85
    },
    "colab_type": "code",
    "id": "GMUvhlMEyh2d",
    "outputId": "53f7679f-e77e-4bf9-a405-f029968e2cfb"
   },
   "outputs": [
    {
     "name": "stdout",
     "output_type": "stream",
     "text": [
      "roll again sucker\n",
      "roll again sucker\n",
      "roll again sucker\n",
      "YOU LOST LOSER\n"
     ]
    }
   ],
   "source": [
    "def roll_dice():\n",
    "        return randint(1, 6)\n",
    "\n",
    "\n",
    "for i in range(0,4):\n",
    "  roll = roll_dice()\n",
    "  if roll == 6:\n",
    "    print(\"ya won\")\n",
    "    break\n",
    "  elif (roll != 6) & (i !=3):\n",
    "    print(\"roll again\")\n",
    "  elif (roll != 6) & (i==3):\n",
    "    print(\"YOU LOST\")\n"
   ]
  },
  {
   "cell_type": "markdown",
   "metadata": {},
   "source": [
    "Program uses sixes() to simulate N plays of the game \n",
    "\n",
    "The probability of getting no 6’s in n rolls of a fair die is (5/6)n, so the probability of getting at least one is 1 − (5/6)n. \n",
    "\n",
    "Calculates the theoretical probability as well as the simulation estimate andthe difference between them. "
   ]
  },
  {
   "cell_type": "code",
   "execution_count": 83,
   "metadata": {
    "colab": {},
    "colab_type": "code",
    "id": "puFdxiJ9yh_S"
   },
   "outputs": [],
   "source": [
    "def sixes(n):\n",
    "  won = []\n",
    "  for i in range(0,n):\n",
    "    roll = roll_dice()\n",
    "    if roll == 6:\n",
    "      won.append(1)\n",
    "      break\n",
    "    else:\n",
    "      pass\n",
    "  if len(won) > 0:\n",
    "    pass\n",
    "  else:\n",
    "    won.append(0)\n",
    "\n",
    "  return won \n",
    "\n",
    "def sim(N,n):\n",
    "  played_won = []\n",
    "  for i in range(0,N):\n",
    "    won = sixes(n)\n",
    "    played_won.append(sum(won))\n",
    "    \n",
    "  est_prob = sum(played_won)/N  \n",
    "  theoretical_prob = (1 - ((5/6)**4))\n",
    "  diff = theoretical_prob - est_prob\n",
    "  \n",
    "  # return tuple\n",
    "  return est_prob, diff\n"
   ]
  },
  {
   "cell_type": "code",
   "execution_count": null,
   "metadata": {},
   "outputs": [],
   "source": [
    "# N=100\n",
    "for i in range(1,6):\n",
    "  N100, dif = sim(100,4)\n",
    "  print(\"run:\",i)\n",
    "  print(N100)\n",
    "  print(dif)\n",
    "  print(\" \")"
   ]
  },
  {
   "cell_type": "code",
   "execution_count": null,
   "metadata": {},
   "outputs": [],
   "source": [
    "# N=1000\n",
    "for i in range(1,6):\n",
    "  N1000, dif = sim(1000,4)\n",
    "  print(\"run:\",i)\n",
    "  print(N1000)\n",
    "  print(dif)\n",
    "  print(\" \")"
   ]
  },
  {
   "cell_type": "code",
   "execution_count": null,
   "metadata": {},
   "outputs": [],
   "source": [
    "# N=10000\n",
    "for i in range(1,6):\n",
    "  N10000, dif = sim(10000,4)\n",
    "  print(\"run:\",i)\n",
    "  print(N10000)\n",
    "  print(dif)\n",
    "  print(\" \")"
   ]
  }
 ],
 "metadata": {
  "kernelspec": {
   "display_name": "Python 3",
   "language": "python",
   "name": "python3"
  },
  "language_info": {
   "codemirror_mode": {
    "name": "ipython",
    "version": 3
   },
   "file_extension": ".py",
   "mimetype": "text/x-python",
   "name": "python",
   "nbconvert_exporter": "python",
   "pygments_lexer": "ipython3",
   "version": "3.7.1"
  }
 },
 "nbformat": 4,
 "nbformat_minor": 4
}
