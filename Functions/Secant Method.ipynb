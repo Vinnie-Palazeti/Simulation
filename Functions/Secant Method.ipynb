{
 "cells": [
  {
   "cell_type": "code",
   "execution_count": null,
   "metadata": {},
   "outputs": [],
   "source": [
    "def secant(f,x,y,N):\n",
    "    if f(x)*f(y) >= 0:\n",
    "        print(\"Cannot perform Secant method\")\n",
    "        return None\n",
    "    xn = x #initial point 1\n",
    "    yn = y\n",
    "    for n in range(1,N+1):\n",
    "        m_n = xn - f(xn)*(yn - xn)/(f(yn) - f(xn))\n",
    "        f_m_n = f(m_n)\n",
    "        if f(xn)*f_m_n < 0:\n",
    "            xn = xn\n",
    "            yn = m_n\n",
    "        elif f(yn)*f_m_n < 0:\n",
    "            xn = m_n\n",
    "            yn = yn\n",
    "        elif f_m_n == 0:\n",
    "            print(\"Exact Solution to Secant\")\n",
    "            return m_n\n",
    "        else:\n",
    "            print(\"No solution found\")\n",
    "            return None\n",
    "    return xn - f(xn)*(yn - xn)/(f(yn) - f(xn))\n"
   ]
  },
  {
   "cell_type": "code",
   "execution_count": null,
   "metadata": {},
   "outputs": [],
   "source": [
    "Q_a = lambda i: np.exp(-i**2) - 0.5\n",
    "Q_a = np.vectorize(Q_a)\n",
    "x = np.linspace(-2,2,1000)\n",
    "y = Q_a(x)\n",
    "\n",
    "import matplotlib.pyplot as plt\n",
    "fig = plt.figure(figsize=(10,10))\n",
    "ax = fig.add_subplot()\n",
    "ax.plot(x,y)"
   ]
  },
  {
   "cell_type": "code",
   "execution_count": null,
   "metadata": {},
   "outputs": [],
   "source": [
    "print(\"Root:\",secant(Q_a,-5,0,200))\n",
    "print(\"Root:\",secant(Q_a,0,5,200))"
   ]
  },
  {
   "cell_type": "code",
   "execution_count": null,
   "metadata": {},
   "outputs": [],
   "source": [
    "Q_b = lambda i: (i**2)*(np.abs(math.sin(i)+1.5))-12\n",
    "Q_b = np.vectorize(Q_b)\n",
    "x = np.linspace(-7,7,100)\n",
    "y = Q_b(x)\n",
    "\n",
    "fig = plt.figure(figsize=(10,10))\n",
    "ax = fig.add_subplot()\n",
    "ax.plot(x,y)"
   ]
  },
  {
   "cell_type": "code",
   "execution_count": null,
   "metadata": {},
   "outputs": [],
   "source": [
    "print(\"Root:\",secant(Q_b,-5,0,200))\n",
    "print(\"Root:\",secant(Q_b,1,3,200))\n",
    "print(\"Root:\",secant(Q_b,3,4,200))\n",
    "print(\"Root:\",secant(Q_b,4,5,200))"
   ]
  }
 ],
 "metadata": {
  "kernelspec": {
   "display_name": "Python 3",
   "language": "python",
   "name": "python3"
  },
  "language_info": {
   "codemirror_mode": {
    "name": "ipython",
    "version": 3
   },
   "file_extension": ".py",
   "mimetype": "text/x-python",
   "name": "python",
   "nbconvert_exporter": "python",
   "pygments_lexer": "ipython3",
   "version": "3.7.4"
  }
 },
 "nbformat": 4,
 "nbformat_minor": 2
}
