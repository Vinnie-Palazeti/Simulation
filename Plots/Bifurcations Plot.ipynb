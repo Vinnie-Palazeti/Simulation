{
 "cells": [
  {
   "cell_type": "code",
   "execution_count": null,
   "metadata": {
    "colab": {
     "base_uri": "https://localhost:8080/",
     "height": 265
    },
    "colab_type": "code",
    "id": "LOna2pG_8vYR",
    "outputId": "cd93471a-43ff-4d2d-e732-6772342d8955",
    "scrolled": false
   },
   "outputs": [
    {
     "data": {
      "image/png": "[encoded data removed]",
      "text/plain": [
       "<Figure size 432x288 with 1 Axes>"
      ]
     },
     "metadata": {
      "needs_background": "light",
      "tags": []
     },
     "output_type": "display_data"
    }
   ],
   "source": [
    "import matplotlib.pyplot as plt\n",
    "import numpy as np\n",
    "P=np.linspace(0.7,4,10000)\n",
    "m=0.7\n",
    "X = []\n",
    "Y = []\n",
    "for u in P:\n",
    "    X.append(u)\n",
    "    m = np.random.random()\n",
    "    for n in range(1001):\n",
    "      m=(u*m)*(1-m)\n",
    "    for l in range(1051):\n",
    "      m=(u*m)*(1-m)\n",
    "    # data in Y must be done once per value of u\n",
    "    Y.append(m)\n",
    "plt.plot(X, Y, ls='', marker=',')\n",
    "plt.show()"
   ]
  }
 ],
 "metadata": {
  "kernelspec": {
   "display_name": "Python 3",
   "language": "python",
   "name": "python3"
  },
  "language_info": {
   "codemirror_mode": {
    "name": "ipython",
    "version": 3
   },
   "file_extension": ".py",
   "mimetype": "text/x-python",
   "name": "python",
   "nbconvert_exporter": "python",
   "pygments_lexer": "ipython3",
   "version": "3.7.1"
  }
 },
 "nbformat": 4,
 "nbformat_minor": 4
}
